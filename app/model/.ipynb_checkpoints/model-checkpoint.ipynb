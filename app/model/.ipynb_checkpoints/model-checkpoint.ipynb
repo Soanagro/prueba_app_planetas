{
 "cells": [
  {
   "cell_type": "code",
   "execution_count": 1,
   "metadata": {},
   "outputs": [],
   "source": [
    "import numpy as np\n",
    "import pandas as pd\n",
    "import seaborn as sns\n",
    "import matplotlib.pyplot as plt\n",
    "\n",
    "#sklearn imports\n",
    "from sklearn.model_selection import train_test_split\n",
    "from sklearn.ensemble import RandomForestClassifier\n",
    "\n",
    "pd.set_option('display.max_rows', 150)"
   ]
  },
  {
   "cell_type": "markdown",
   "metadata": {
    "toc-hr-collapsed": true
   },
   "source": [
    "## Data source"
   ]
  },
  {
   "cell_type": "markdown",
   "metadata": {},
   "source": [
    "http://phl.upr.edu/projects/habitable-exoplanets-catalog/data/database"
   ]
  },
  {
   "cell_type": "code",
   "execution_count": 2,
   "metadata": {},
   "outputs": [
    {
     "data": {
      "text/html": [
       "<div>\n",
       "<style scoped>\n",
       "    .dataframe tbody tr th:only-of-type {\n",
       "        vertical-align: middle;\n",
       "    }\n",
       "\n",
       "    .dataframe tbody tr th {\n",
       "        vertical-align: top;\n",
       "    }\n",
       "\n",
       "    .dataframe thead th {\n",
       "        text-align: right;\n",
       "    }\n",
       "</style>\n",
       "<table border=\"1\" class=\"dataframe\">\n",
       "  <thead>\n",
       "    <tr style=\"text-align: right;\">\n",
       "      <th></th>\n",
       "      <th>P_NAME</th>\n",
       "      <th>P_STATUS</th>\n",
       "      <th>P_MASS</th>\n",
       "      <th>P_MASS_ERROR_MIN</th>\n",
       "      <th>P_MASS_ERROR_MAX</th>\n",
       "      <th>P_RADIUS</th>\n",
       "      <th>P_RADIUS_ERROR_MIN</th>\n",
       "      <th>P_RADIUS_ERROR_MAX</th>\n",
       "      <th>P_YEAR</th>\n",
       "      <th>P_UPDATED</th>\n",
       "      <th>...</th>\n",
       "      <th>P_HABZONE_CON</th>\n",
       "      <th>P_TYPE_TEMP</th>\n",
       "      <th>P_HABITABLE</th>\n",
       "      <th>P_ESI</th>\n",
       "      <th>S_CONSTELLATION</th>\n",
       "      <th>S_CONSTELLATION_ABR</th>\n",
       "      <th>S_CONSTELLATION_ENG</th>\n",
       "      <th>P_RADIUS_EST</th>\n",
       "      <th>P_MASS_EST</th>\n",
       "      <th>P_SEMI_MAJOR_AXIS_EST</th>\n",
       "    </tr>\n",
       "  </thead>\n",
       "  <tbody>\n",
       "    <tr>\n",
       "      <th>0</th>\n",
       "      <td>11 Com b</td>\n",
       "      <td>3.0</td>\n",
       "      <td>6165.86330</td>\n",
       "      <td>-476.74200</td>\n",
       "      <td>476.74200</td>\n",
       "      <td>NaN</td>\n",
       "      <td>NaN</td>\n",
       "      <td>NaN</td>\n",
       "      <td>2007</td>\n",
       "      <td>2014-05-14</td>\n",
       "      <td>...</td>\n",
       "      <td>0</td>\n",
       "      <td>Hot</td>\n",
       "      <td>0</td>\n",
       "      <td>0.083813</td>\n",
       "      <td>Coma Berenices</td>\n",
       "      <td>Com</td>\n",
       "      <td>Berenice's Hair</td>\n",
       "      <td>12.082709</td>\n",
       "      <td>6165.86330</td>\n",
       "      <td>1.29</td>\n",
       "    </tr>\n",
       "    <tr>\n",
       "      <th>1</th>\n",
       "      <td>11 UMi b</td>\n",
       "      <td>3.0</td>\n",
       "      <td>4684.78480</td>\n",
       "      <td>-794.57001</td>\n",
       "      <td>794.57001</td>\n",
       "      <td>NaN</td>\n",
       "      <td>NaN</td>\n",
       "      <td>NaN</td>\n",
       "      <td>2009</td>\n",
       "      <td>2018-09-06</td>\n",
       "      <td>...</td>\n",
       "      <td>0</td>\n",
       "      <td>Hot</td>\n",
       "      <td>0</td>\n",
       "      <td>0.082414</td>\n",
       "      <td>Ursa Minor</td>\n",
       "      <td>UMi</td>\n",
       "      <td>Little Bear</td>\n",
       "      <td>12.229641</td>\n",
       "      <td>4684.78480</td>\n",
       "      <td>1.53</td>\n",
       "    </tr>\n",
       "    <tr>\n",
       "      <th>2</th>\n",
       "      <td>14 And b</td>\n",
       "      <td>3.0</td>\n",
       "      <td>1525.57440</td>\n",
       "      <td>NaN</td>\n",
       "      <td>NaN</td>\n",
       "      <td>NaN</td>\n",
       "      <td>NaN</td>\n",
       "      <td>NaN</td>\n",
       "      <td>2008</td>\n",
       "      <td>2014-05-14</td>\n",
       "      <td>...</td>\n",
       "      <td>0</td>\n",
       "      <td>Hot</td>\n",
       "      <td>0</td>\n",
       "      <td>0.081917</td>\n",
       "      <td>Andromeda</td>\n",
       "      <td>And</td>\n",
       "      <td>Andromeda</td>\n",
       "      <td>12.848516</td>\n",
       "      <td>1525.57440</td>\n",
       "      <td>0.83</td>\n",
       "    </tr>\n",
       "    <tr>\n",
       "      <th>3</th>\n",
       "      <td>14 Her b</td>\n",
       "      <td>3.0</td>\n",
       "      <td>1481.07850</td>\n",
       "      <td>-47.67420</td>\n",
       "      <td>47.67420</td>\n",
       "      <td>NaN</td>\n",
       "      <td>NaN</td>\n",
       "      <td>NaN</td>\n",
       "      <td>2002</td>\n",
       "      <td>2018-09-06</td>\n",
       "      <td>...</td>\n",
       "      <td>0</td>\n",
       "      <td>Cold</td>\n",
       "      <td>0</td>\n",
       "      <td>0.145241</td>\n",
       "      <td>Hercules</td>\n",
       "      <td>Her</td>\n",
       "      <td>Hercules</td>\n",
       "      <td>12.865261</td>\n",
       "      <td>1481.07850</td>\n",
       "      <td>2.93</td>\n",
       "    </tr>\n",
       "    <tr>\n",
       "      <th>4</th>\n",
       "      <td>16 Cyg B b</td>\n",
       "      <td>3.0</td>\n",
       "      <td>565.73385</td>\n",
       "      <td>-25.42624</td>\n",
       "      <td>25.42624</td>\n",
       "      <td>NaN</td>\n",
       "      <td>NaN</td>\n",
       "      <td>NaN</td>\n",
       "      <td>1996</td>\n",
       "      <td>2018-09-06</td>\n",
       "      <td>...</td>\n",
       "      <td>1</td>\n",
       "      <td>Warm</td>\n",
       "      <td>0</td>\n",
       "      <td>0.368627</td>\n",
       "      <td>Cygnus</td>\n",
       "      <td>Cyg</td>\n",
       "      <td>Swan</td>\n",
       "      <td>13.421749</td>\n",
       "      <td>565.73385</td>\n",
       "      <td>1.66</td>\n",
       "    </tr>\n",
       "  </tbody>\n",
       "</table>\n",
       "<p>5 rows × 112 columns</p>\n",
       "</div>"
      ],
      "text/plain": [
       "       P_NAME  P_STATUS      P_MASS  P_MASS_ERROR_MIN  P_MASS_ERROR_MAX  \\\n",
       "0    11 Com b       3.0  6165.86330        -476.74200         476.74200   \n",
       "1    11 UMi b       3.0  4684.78480        -794.57001         794.57001   \n",
       "2    14 And b       3.0  1525.57440               NaN               NaN   \n",
       "3    14 Her b       3.0  1481.07850         -47.67420          47.67420   \n",
       "4  16 Cyg B b       3.0   565.73385         -25.42624          25.42624   \n",
       "\n",
       "   P_RADIUS  P_RADIUS_ERROR_MIN  P_RADIUS_ERROR_MAX  P_YEAR   P_UPDATED  ...  \\\n",
       "0       NaN                 NaN                 NaN    2007  2014-05-14  ...   \n",
       "1       NaN                 NaN                 NaN    2009  2018-09-06  ...   \n",
       "2       NaN                 NaN                 NaN    2008  2014-05-14  ...   \n",
       "3       NaN                 NaN                 NaN    2002  2018-09-06  ...   \n",
       "4       NaN                 NaN                 NaN    1996  2018-09-06  ...   \n",
       "\n",
       "   P_HABZONE_CON  P_TYPE_TEMP  P_HABITABLE     P_ESI  S_CONSTELLATION  \\\n",
       "0              0          Hot            0  0.083813   Coma Berenices   \n",
       "1              0          Hot            0  0.082414       Ursa Minor   \n",
       "2              0          Hot            0  0.081917        Andromeda   \n",
       "3              0         Cold            0  0.145241         Hercules   \n",
       "4              1         Warm            0  0.368627           Cygnus   \n",
       "\n",
       "   S_CONSTELLATION_ABR  S_CONSTELLATION_ENG  P_RADIUS_EST  P_MASS_EST  \\\n",
       "0                  Com      Berenice's Hair     12.082709  6165.86330   \n",
       "1                  UMi          Little Bear     12.229641  4684.78480   \n",
       "2                  And            Andromeda     12.848516  1525.57440   \n",
       "3                  Her             Hercules     12.865261  1481.07850   \n",
       "4                  Cyg                 Swan     13.421749   565.73385   \n",
       "\n",
       "   P_SEMI_MAJOR_AXIS_EST  \n",
       "0                   1.29  \n",
       "1                   1.53  \n",
       "2                   0.83  \n",
       "3                   2.93  \n",
       "4                   1.66  \n",
       "\n",
       "[5 rows x 112 columns]"
      ]
     },
     "execution_count": 2,
     "metadata": {},
     "output_type": "execute_result"
    }
   ],
   "source": [
    "planets = pd.read_csv('data/phl_exoplanet_catalog.csv')\n",
    "planets.head()"
   ]
  },
  {
   "cell_type": "code",
   "execution_count": 3,
   "metadata": {},
   "outputs": [
    {
     "name": "stdout",
     "output_type": "stream",
     "text": [
      "['P_NAME' 'P_STATUS' 'P_MASS' 'P_MASS_ERROR_MIN' 'P_MASS_ERROR_MAX'\n",
      " 'P_RADIUS' 'P_RADIUS_ERROR_MIN' 'P_RADIUS_ERROR_MAX' 'P_YEAR' 'P_UPDATED'\n",
      " 'P_PERIOD' 'P_PERIOD_ERROR_MIN' 'P_PERIOD_ERROR_MAX' 'P_SEMI_MAJOR_AXIS'\n",
      " 'P_SEMI_MAJOR_AXIS_ERROR_MIN' 'P_SEMI_MAJOR_AXIS_ERROR_MAX'\n",
      " 'P_ECCENTRICITY' 'P_ECCENTRICITY_ERROR_MIN' 'P_ECCENTRICITY_ERROR_MAX'\n",
      " 'P_INCLINATION' 'P_INCLINATION_ERROR_MIN' 'P_INCLINATION_ERROR_MAX'\n",
      " 'P_OMEGA' 'P_OMEGA_ERROR_MIN' 'P_OMEGA_ERROR_MAX' 'P_TPERI'\n",
      " 'P_TPERI_ERROR_MIN' 'P_TPERI_ERROR_MAX' 'P_ANGULAR_DISTANCE'\n",
      " 'P_IMPACT_PARAMETER' 'P_IMPACT_PARAMETER_ERROR_MIN'\n",
      " 'P_IMPACT_PARAMETER_ERROR_MAX' 'P_TEMP_MEASURED' 'P_GEO_ALBEDO'\n",
      " 'P_GEO_ALBEDO_ERROR_MIN' 'P_GEO_ALBEDO_ERROR_MAX' 'P_DETECTION'\n",
      " 'P_DETECTION_MASS' 'P_DETECTION_RADIUS' 'P_ALT_NAMES' 'P_ATMOSPHERE'\n",
      " 'S_NAME' 'S_RA' 'S_DEC' 'S_MAG' 'S_DISTANCE' 'S_DISTANCE_ERROR_MIN'\n",
      " 'S_DISTANCE_ERROR_MAX' 'S_METALLICITY' 'S_METALLICITY_ERROR_MIN'\n",
      " 'S_METALLICITY_ERROR_MAX' 'S_MASS' 'S_MASS_ERROR_MIN' 'S_MASS_ERROR_MAX'\n",
      " 'S_RADIUS' 'S_RADIUS_ERROR_MIN' 'S_RADIUS_ERROR_MAX' 'S_TYPE' 'S_AGE'\n",
      " 'S_AGE_ERROR_MIN' 'S_AGE_ERROR_MAX' 'S_TEMPERATURE'\n",
      " 'S_TEMPERATURE_ERROR_MIN' 'S_TEMPERATURE_ERROR_MAX' 'S_DISC'\n",
      " 'S_MAGNETIC_FIELD' 'S_LOG_G' 'S_ALT_NAMES' 'P_ESCAPE' 'P_POTENTIAL'\n",
      " 'P_GRAVITY' 'P_DENSITY' 'P_HILL_SPHERE' 'P_DISTANCE' 'P_PERIASTRON'\n",
      " 'P_APASTRON' 'P_DISTANCE_EFF' 'P_FLUX' 'P_FLUX_MIN' 'P_FLUX_MAX'\n",
      " 'P_TEMP_EQUIL' 'P_TEMP_EQUIL_MIN' 'P_TEMP_EQUIL_MAX' 'P_TYPE'\n",
      " 'S_RADIUS_EST' 'S_TYPE_TEMP' 'S_RA_H' 'S_RA_T' 'S_DEC_T' 'S_LUMINOSITY'\n",
      " 'S_HZ_OPT_MIN' 'S_HZ_OPT_MAX' 'S_HZ_CON_MIN' 'S_HZ_CON_MAX'\n",
      " 'S_HZ_CON0_MIN' 'S_HZ_CON0_MAX' 'S_HZ_CON1_MIN' 'S_HZ_CON1_MAX'\n",
      " 'S_SNOW_LINE' 'S_ABIO_ZONE' 'S_TIDAL_LOCK' 'P_HABZONE_OPT'\n",
      " 'P_HABZONE_CON' 'P_TYPE_TEMP' 'P_HABITABLE' 'P_ESI' 'S_CONSTELLATION'\n",
      " 'S_CONSTELLATION_ABR' 'S_CONSTELLATION_ENG' 'P_RADIUS_EST' 'P_MASS_EST'\n",
      " 'P_SEMI_MAJOR_AXIS_EST']\n"
     ]
    }
   ],
   "source": [
    "# List of all columns\n",
    "print(planets.columns.values)"
   ]
  },
  {
   "cell_type": "code",
   "execution_count": 4,
   "metadata": {},
   "outputs": [
    {
     "data": {
      "text/plain": [
       "3.0    4048\n",
       "Name: P_STATUS, dtype: int64"
      ]
     },
     "execution_count": 4,
     "metadata": {},
     "output_type": "execute_result"
    }
   ],
   "source": [
    "planets['P_STATUS'].value_counts()\n",
    "# All the planets have confirmed (=3) status"
   ]
  },
  {
   "cell_type": "code",
   "execution_count": 5,
   "metadata": {},
   "outputs": [
    {
     "data": {
      "text/plain": [
       "0    3993\n",
       "2      34\n",
       "1      21\n",
       "Name: P_HABITABLE, dtype: int64"
      ]
     },
     "execution_count": 5,
     "metadata": {},
     "output_type": "execute_result"
    }
   ],
   "source": [
    "planets['P_HABITABLE'].value_counts()\n",
    "## 1 means conservatively considered habitable\n",
    "## 2 means optimistically considered habitable\n",
    "## 0 means not habitable\n"
   ]
  },
  {
   "cell_type": "markdown",
   "metadata": {},
   "source": [
    "#### Note on the \"habitable\" column\n",
    "\n",
    "This column was defined in a counterintuitive way, in my opinion. If we have a scale that goes from \"not habitable\" to \"likely habitable\", with \"*maybe* habitable\" in the middle, then why does \"maybe habitable\" get the highest numerical value (2)? \n",
    "\n",
    "I will redefine it now so that we can use it as a target variable for our classification algorithm later."
   ]
  },
  {
   "cell_type": "code",
   "execution_count": 6,
   "metadata": {},
   "outputs": [],
   "source": [
    "planets['P_HABITABLE'] = planets['P_HABITABLE'].map( {0: 0, 1: 2, 2: 1})\n"
   ]
  },
  {
   "cell_type": "code",
   "execution_count": 7,
   "metadata": {},
   "outputs": [],
   "source": [
    "# value_counts doesn't consider null values, so let's check \n",
    "# if there are unclassified planets, and drop them if they exist\n",
    "planets['P_HABITABLE'].isnull().sum()\n",
    "\n",
    "planets = planets.dropna(subset = ['P_HABITABLE'])"
   ]
  },
  {
   "cell_type": "markdown",
   "metadata": {
    "toc-hr-collapsed": true
   },
   "source": [
    "## Data preparation"
   ]
  },
  {
   "cell_type": "code",
   "execution_count": 8,
   "metadata": {},
   "outputs": [
    {
     "name": "stdout",
     "output_type": "stream",
     "text": [
      "<class 'pandas.core.frame.DataFrame'>\n",
      "Int64Index: 4048 entries, 0 to 4047\n",
      "Data columns (total 112 columns):\n",
      " #   Column                        Non-Null Count  Dtype  \n",
      "---  ------                        --------------  -----  \n",
      " 0   P_NAME                        4048 non-null   object \n",
      " 1   P_STATUS                      4048 non-null   float64\n",
      " 2   P_MASS                        1598 non-null   float64\n",
      " 3   P_MASS_ERROR_MIN              1467 non-null   float64\n",
      " 4   P_MASS_ERROR_MAX              1467 non-null   float64\n",
      " 5   P_RADIUS                      3139 non-null   float64\n",
      " 6   P_RADIUS_ERROR_MIN            3105 non-null   float64\n",
      " 7   P_RADIUS_ERROR_MAX            3105 non-null   float64\n",
      " 8   P_YEAR                        4048 non-null   int64  \n",
      " 9   P_UPDATED                     4048 non-null   object \n",
      " 10  P_PERIOD                      3938 non-null   float64\n",
      " 11  P_PERIOD_ERROR_MIN            3807 non-null   float64\n",
      " 12  P_PERIOD_ERROR_MAX            3807 non-null   float64\n",
      " 13  P_SEMI_MAJOR_AXIS             2367 non-null   float64\n",
      " 14  P_SEMI_MAJOR_AXIS_ERROR_MIN   1563 non-null   float64\n",
      " 15  P_SEMI_MAJOR_AXIS_ERROR_MAX   1564 non-null   float64\n",
      " 16  P_ECCENTRICITY                1380 non-null   float64\n",
      " 17  P_ECCENTRICITY_ERROR_MIN      971 non-null    float64\n",
      " 18  P_ECCENTRICITY_ERROR_MAX      971 non-null    float64\n",
      " 19  P_INCLINATION                 844 non-null    float64\n",
      " 20  P_INCLINATION_ERROR_MIN       812 non-null    float64\n",
      " 21  P_INCLINATION_ERROR_MAX       810 non-null    float64\n",
      " 22  P_OMEGA                       746 non-null    float64\n",
      " 23  P_OMEGA_ERROR_MIN             693 non-null    float64\n",
      " 24  P_OMEGA_ERROR_MAX             693 non-null    float64\n",
      " 25  P_TPERI                       481 non-null    float64\n",
      " 26  P_TPERI_ERROR_MIN             472 non-null    float64\n",
      " 27  P_TPERI_ERROR_MAX             472 non-null    float64\n",
      " 28  P_ANGULAR_DISTANCE            2361 non-null   float64\n",
      " 29  P_IMPACT_PARAMETER            1409 non-null   float64\n",
      " 30  P_IMPACT_PARAMETER_ERROR_MIN  1407 non-null   float64\n",
      " 31  P_IMPACT_PARAMETER_ERROR_MAX  1407 non-null   float64\n",
      " 32  P_TEMP_MEASURED               5 non-null      float64\n",
      " 33  P_GEO_ALBEDO                  0 non-null      float64\n",
      " 34  P_GEO_ALBEDO_ERROR_MIN        5 non-null      float64\n",
      " 35  P_GEO_ALBEDO_ERROR_MAX        5 non-null      float64\n",
      " 36  P_DETECTION                   4048 non-null   object \n",
      " 37  P_DETECTION_MASS              0 non-null      float64\n",
      " 38  P_DETECTION_RADIUS            0 non-null      float64\n",
      " 39  P_ALT_NAMES                   0 non-null      float64\n",
      " 40  P_ATMOSPHERE                  0 non-null      float64\n",
      " 41  S_NAME                        4048 non-null   object \n",
      " 42  S_RA                          4048 non-null   float64\n",
      " 43  S_DEC                         4048 non-null   float64\n",
      " 44  S_MAG                         3869 non-null   float64\n",
      " 45  S_DISTANCE                    4042 non-null   float64\n",
      " 46  S_DISTANCE_ERROR_MIN          3967 non-null   float64\n",
      " 47  S_DISTANCE_ERROR_MAX          3967 non-null   float64\n",
      " 48  S_METALLICITY                 2842 non-null   float64\n",
      " 49  S_METALLICITY_ERROR_MIN       2446 non-null   float64\n",
      " 50  S_METALLICITY_ERROR_MAX       2446 non-null   float64\n",
      " 51  S_MASS                        3283 non-null   float64\n",
      " 52  S_MASS_ERROR_MIN              3034 non-null   float64\n",
      " 53  S_MASS_ERROR_MAX              3063 non-null   float64\n",
      " 54  S_RADIUS                      3723 non-null   float64\n",
      " 55  S_RADIUS_ERROR_MIN            3576 non-null   float64\n",
      " 56  S_RADIUS_ERROR_MAX            3604 non-null   float64\n",
      " 57  S_TYPE                        1370 non-null   object \n",
      " 58  S_AGE                         2031 non-null   float64\n",
      " 59  S_AGE_ERROR_MIN               1887 non-null   float64\n",
      " 60  S_AGE_ERROR_MAX               1887 non-null   float64\n",
      " 61  S_TEMPERATURE                 3841 non-null   float64\n",
      " 62  S_TEMPERATURE_ERROR_MIN       3650 non-null   float64\n",
      " 63  S_TEMPERATURE_ERROR_MAX       3680 non-null   float64\n",
      " 64  S_DISC                        0 non-null      float64\n",
      " 65  S_MAGNETIC_FIELD              0 non-null      float64\n",
      " 66  S_LOG_G                       3575 non-null   float64\n",
      " 67  S_ALT_NAMES                   4048 non-null   object \n",
      " 68  P_ESCAPE                      706 non-null    float64\n",
      " 69  P_POTENTIAL                   706 non-null    float64\n",
      " 70  P_GRAVITY                     706 non-null    float64\n",
      " 71  P_DENSITY                     706 non-null    float64\n",
      " 72  P_HILL_SPHERE                 1546 non-null   float64\n",
      " 73  P_DISTANCE                    3978 non-null   float64\n",
      " 74  P_PERIASTRON                  3978 non-null   float64\n",
      " 75  P_APASTRON                    3978 non-null   float64\n",
      " 76  P_DISTANCE_EFF                3978 non-null   float64\n",
      " 77  P_FLUX                        3721 non-null   float64\n",
      " 78  P_FLUX_MIN                    3721 non-null   float64\n",
      " 79  P_FLUX_MAX                    3721 non-null   float64\n",
      " 80  P_TEMP_EQUIL                  3721 non-null   float64\n",
      " 81  P_TEMP_EQUIL_MIN              3721 non-null   float64\n",
      " 82  P_TEMP_EQUIL_MAX              3721 non-null   float64\n",
      " 83  P_TYPE                        4031 non-null   object \n",
      " 84  S_RADIUS_EST                  3844 non-null   float64\n",
      " 85  S_TYPE_TEMP                   3912 non-null   object \n",
      " 86  S_RA_H                        4048 non-null   float64\n",
      " 87  S_RA_T                        4048 non-null   object \n",
      " 88  S_DEC_T                       4048 non-null   object \n",
      " 89  S_LUMINOSITY                  3786 non-null   float64\n",
      " 90  S_HZ_OPT_MIN                  3786 non-null   float64\n",
      " 91  S_HZ_OPT_MAX                  3786 non-null   float64\n",
      " 92  S_HZ_CON_MIN                  3786 non-null   float64\n",
      " 93  S_HZ_CON_MAX                  3786 non-null   float64\n",
      " 94  S_HZ_CON0_MIN                 3786 non-null   float64\n",
      " 95  S_HZ_CON0_MAX                 3786 non-null   float64\n",
      " 96  S_HZ_CON1_MIN                 3786 non-null   float64\n",
      " 97  S_HZ_CON1_MAX                 3786 non-null   float64\n",
      " 98  S_SNOW_LINE                   3786 non-null   float64\n",
      " 99  S_ABIO_ZONE                   3083 non-null   float64\n",
      " 100 S_TIDAL_LOCK                  3281 non-null   float64\n",
      " 101 P_HABZONE_OPT                 4048 non-null   int64  \n",
      " 102 P_HABZONE_CON                 4048 non-null   int64  \n",
      " 103 P_TYPE_TEMP                   3721 non-null   object \n",
      " 104 P_HABITABLE                   4048 non-null   int64  \n",
      " 105 P_ESI                         3721 non-null   float64\n",
      " 106 S_CONSTELLATION               4048 non-null   object \n",
      " 107 S_CONSTELLATION_ABR           4048 non-null   object \n",
      " 108 S_CONSTELLATION_ENG           4048 non-null   object \n",
      " 109 P_RADIUS_EST                  4048 non-null   float64\n",
      " 110 P_MASS_EST                    4048 non-null   float64\n",
      " 111 P_SEMI_MAJOR_AXIS_EST         3978 non-null   float64\n",
      "dtypes: float64(94), int64(4), object(14)\n",
      "memory usage: 3.5+ MB\n"
     ]
    }
   ],
   "source": [
    "# check null values and type per column\n",
    "planets.info(verbose = True, null_counts = True)\n"
   ]
  },
  {
   "cell_type": "markdown",
   "metadata": {},
   "source": [
    "### Null values"
   ]
  },
  {
   "cell_type": "code",
   "execution_count": 9,
   "metadata": {},
   "outputs": [],
   "source": [
    "# drop all columms with more than 30% null values\n",
    "pl_data = planets[[column for column in planets if planets[column].count() / len(planets) >= 0.8]]\n"
   ]
  },
  {
   "cell_type": "code",
   "execution_count": 10,
   "metadata": {},
   "outputs": [
    {
     "data": {
      "text/plain": [
       "0    3993\n",
       "1      34\n",
       "2      21\n",
       "Name: P_HABITABLE, dtype: int64"
      ]
     },
     "execution_count": 10,
     "metadata": {},
     "output_type": "execute_result"
    }
   ],
   "source": [
    "# check if we still have all the habitable planets\n",
    "pl_data['P_HABITABLE'].value_counts()"
   ]
  },
  {
   "cell_type": "code",
   "execution_count": 11,
   "metadata": {},
   "outputs": [],
   "source": [
    "# remove all error columns\n",
    "pl_data = pl_data[[column for column in pl_data if (not 'MIN' in column) and (not 'MAX' in column)]]\n"
   ]
  },
  {
   "cell_type": "code",
   "execution_count": 12,
   "metadata": {},
   "outputs": [
    {
     "data": {
      "text/plain": [
       "Index(['P_NAME', 'P_YEAR', 'P_UPDATED', 'P_DETECTION', 'S_NAME', 'S_ALT_NAMES',\n",
       "       'P_TYPE', 'S_TYPE_TEMP', 'S_RA_T', 'S_DEC_T', 'P_HABZONE_OPT',\n",
       "       'P_HABZONE_CON', 'P_TYPE_TEMP', 'P_HABITABLE', 'S_CONSTELLATION',\n",
       "       'S_CONSTELLATION_ABR', 'S_CONSTELLATION_ENG'],\n",
       "      dtype='object')"
      ]
     },
     "execution_count": 12,
     "metadata": {},
     "output_type": "execute_result"
    }
   ],
   "source": [
    "# show all non-numeric columns\n",
    "(pl_data.select_dtypes(exclude = ['float', 'int'])).columns"
   ]
  },
  {
   "cell_type": "markdown",
   "metadata": {
    "toc-hr-collapsed": true
   },
   "source": [
    "## Reflecting on the features\n",
    "\n",
    "One of my goals in building this model was to have just a few features that can be easily understood by the user of the app.\n",
    "You can see the descriptions for the columns that we have left [here](http://phl.upr.edu/projects/habitable-exoplanets-catalog/data/database).\n",
    "\n",
    "Now, I'm no astrophysicist, but I can easily see that some of the features are correlated to each other. The planet's type - gas giants or various types of terran planets - is influenced by the distance from the star, as is the planet temperature. \n",
    "Other features are useless to us, like the method of detection used to find the planet or the name of the constellation.\n",
    "\n",
    "So, for now, I'm deciding to focus on these columns:\n",
    "\n",
    "#### Planet data\n",
    "- *P_MASS_EST* - planet mass (earth masses)\n",
    "- *P_RADIUS_EST* - estimated planet radius (earth radii)\n",
    "- *P_PERIOD* - planet period (days)\n",
    "- *P_DISTANCE_EFF* - planet effective thermal distance from the star (AU)\n",
    "\n",
    "\n",
    "#### Star data\n",
    "- *S_RADIUS_EST* - star radius estimated (solar units)\n",
    "- *S_MAG* - star magnitude (unitless measure)\n",
    "- *S_MASS* - star mass (solar units)\n",
    "\n",
    "Let me remind you that our target variable is *P_HABITABLE*, that can takes the values 0, 1 or 2.\n",
    "\n",
    "Of course, this isn't the proper way to do feature selection, since I might have left out variables that have a strong impact on our prediction output, but we established at the beginning that we weren't following the proper way for this model.\n",
    "\n",
    "We will also have to check if the features that we find interesting have enough **non-null** values for the habitable planets. Since we have so few records in those 2 categories, we can't afford do drop any rows.\n"
   ]
  },
  {
   "cell_type": "code",
   "execution_count": 13,
   "metadata": {},
   "outputs": [
    {
     "data": {
      "text/plain": [
       "P_MASS_EST        0\n",
       "P_RADIUS_EST      0\n",
       "P_PERIOD          0\n",
       "P_DISTANCE_EFF    0\n",
       "S_RADIUS_EST      0\n",
       "S_MAG             0\n",
       "S_MASS            3\n",
       "P_HABITABLE       0\n",
       "dtype: int64"
      ]
     },
     "execution_count": 13,
     "metadata": {},
     "output_type": "execute_result"
    }
   ],
   "source": [
    "cols = ['P_MASS_EST','P_RADIUS_EST', 'P_PERIOD' ,\n",
    "                     'P_DISTANCE_EFF', 'S_RADIUS_EST', 'S_MAG','S_MASS', 'P_HABITABLE']\n",
    "# Check null values for habitable planets \n",
    "pl_data.loc[pl_data['P_HABITABLE']>0][cols].isnull().sum()"
   ]
  },
  {
   "cell_type": "code",
   "execution_count": 14,
   "metadata": {},
   "outputs": [
    {
     "data": {
      "text/plain": [
       "count    52.000000\n",
       "mean      0.486538\n",
       "std       0.285079\n",
       "min       0.080000\n",
       "25%       0.290000\n",
       "50%       0.475000\n",
       "75%       0.697500\n",
       "max       1.120000\n",
       "Name: S_MASS, dtype: float64"
      ]
     },
     "execution_count": 14,
     "metadata": {},
     "output_type": "execute_result"
    }
   ],
   "source": [
    "pl_data.loc[pl_data['P_HABITABLE']>0]['S_MASS'].describe()"
   ]
  },
  {
   "cell_type": "markdown",
   "metadata": {},
   "source": [
    "I'll decide in the next section what to do with the *S_MASS* column."
   ]
  },
  {
   "cell_type": "code",
   "execution_count": 15,
   "metadata": {},
   "outputs": [],
   "source": [
    "# I select only the columns I want in the final training and testing data\n",
    "pl = pl_data[cols]"
   ]
  },
  {
   "cell_type": "markdown",
   "metadata": {},
   "source": [
    "### Null values (pt. 2)\n",
    "\n",
    "Now that we have a good sense of the features that we will use to train the model, let's check one last time for null values. We have already dealt with the missing values in the 'habitable' classes, so now any missing values we find will be in the *not habitable* category. We can just drop these rows since we have much more data."
   ]
  },
  {
   "cell_type": "code",
   "execution_count": 16,
   "metadata": {},
   "outputs": [
    {
     "data": {
      "text/plain": [
       "P_MASS_EST          0\n",
       "P_RADIUS_EST        0\n",
       "P_PERIOD          110\n",
       "P_DISTANCE_EFF     70\n",
       "S_RADIUS_EST      204\n",
       "S_MAG             179\n",
       "S_MASS            765\n",
       "P_HABITABLE         0\n",
       "dtype: int64"
      ]
     },
     "execution_count": 16,
     "metadata": {},
     "output_type": "execute_result"
    }
   ],
   "source": [
    "pl.isnull().sum()"
   ]
  },
  {
   "cell_type": "markdown",
   "metadata": {},
   "source": [
    "Issues found: \n",
    "- 765 not habitable rows and 3 habitable ones are missing the 'star mass' value. It's better to just drop this columns.\n",
    "- the rest of the classes don't show serious issues, so I'm going to drop just the rows in this case"
   ]
  },
  {
   "cell_type": "code",
   "execution_count": 17,
   "metadata": {},
   "outputs": [],
   "source": [
    "pl = pl.drop(['S_MASS'],axis = 1)\n",
    "pl = pl.dropna(subset = ['S_MAG', 'P_PERIOD', 'S_RADIUS_EST',\n",
    "                         'P_DISTANCE_EFF'])\n"
   ]
  },
  {
   "cell_type": "code",
   "execution_count": 18,
   "metadata": {},
   "outputs": [
    {
     "data": {
      "text/plain": [
       "P_MASS_EST        0\n",
       "P_RADIUS_EST      0\n",
       "P_PERIOD          0\n",
       "P_DISTANCE_EFF    0\n",
       "S_RADIUS_EST      0\n",
       "S_MAG             0\n",
       "P_HABITABLE       0\n",
       "dtype: int64"
      ]
     },
     "execution_count": 18,
     "metadata": {},
     "output_type": "execute_result"
    }
   ],
   "source": [
    "pl.isnull().sum()"
   ]
  },
  {
   "cell_type": "markdown",
   "metadata": {
    "toc-hr-collapsed": true
   },
   "source": [
    "## Model preparation"
   ]
  },
  {
   "cell_type": "code",
   "execution_count": 19,
   "metadata": {},
   "outputs": [],
   "source": [
    "X = pl.drop(['P_HABITABLE'],axis = 1)\n",
    "X.columns\n",
    "y = pl['P_HABITABLE']"
   ]
  },
  {
   "cell_type": "markdown",
   "metadata": {},
   "source": [
    "### Compensating class imbalance with undersampling"
   ]
  },
  {
   "cell_type": "code",
   "execution_count": 20,
   "metadata": {},
   "outputs": [
    {
     "data": {
      "text/plain": [
       "<matplotlib.axes._subplots.AxesSubplot at 0x2146ec91788>"
      ]
     },
     "execution_count": 20,
     "metadata": {},
     "output_type": "execute_result"
    },
    {
     "data": {
      "image/png": "[encoded data removed]",
      "text/plain": [
       "<Figure size 432x288 with 1 Axes>"
      ]
     },
     "metadata": {
      "needs_background": "light"
     },
     "output_type": "display_data"
    }
   ],
   "source": [
    "from imblearn.under_sampling import ClusterCentroids\n",
    "\n",
    "cc = ClusterCentroids(sampling_strategy = {2: 21, 1: 34, 0: 45}, random_state = 42)\n",
    "X_cc, y_cc = cc.fit_sample(X, y)\n",
    "\n",
    "\n",
    "X_cc['P_HABITABLE'] = y_cc\n",
    "X_cc['P_HABITABLE'].value_counts().plot(kind = 'bar', title = 'Count of habitable categories')\n"
   ]
  },
  {
   "cell_type": "code",
   "execution_count": 21,
   "metadata": {},
   "outputs": [
    {
     "data": {
      "text/plain": [
       "<matplotlib.axes._subplots.AxesSubplot at 0x2146ee89cc8>"
      ]
     },
     "execution_count": 21,
     "metadata": {},
     "output_type": "execute_result"
    },
    {
     "data": {
      "image/png": "[encoded data removed]",
      "text/plain": [
       "<Figure size 864x504 with 6 Axes>"
      ]
     },
     "metadata": {
      "needs_background": "light"
     },
     "output_type": "display_data"
    }
   ],
   "source": [
    "# Variable distribution for habitable planets\n",
    "habit = X_cc[(X_cc['P_HABITABLE']==1) | (X_cc['P_HABITABLE']==2)]\n",
    "f, axes = plt.subplots(2, 3, figsize=(12, 7), sharex=False)\n",
    "sns.distplot( habit[\"P_MASS_EST\"] , color=\"skyblue\", ax=axes[0, 0])\n",
    "sns.distplot( habit[\"P_RADIUS_EST\"] , color=\"olive\", ax=axes[0, 1])\n",
    "sns.distplot( habit[\"P_PERIOD\"] , color=\"gold\", ax=axes[1, 0])\n",
    "sns.distplot( habit[\"P_DISTANCE_EFF\"] , color=\"teal\", ax=axes[1, 1])\n",
    "sns.distplot( habit[\"S_RADIUS_EST\"] , color=\"gray\", ax=axes[0, 2])\n",
    "sns.distplot( habit[\"S_MAG\"] , color=\"pink\", ax=axes[1, 2])"
   ]
  },
  {
   "cell_type": "markdown",
   "metadata": {},
   "source": [
    "### Train-test split"
   ]
  },
  {
   "cell_type": "code",
   "execution_count": 22,
   "metadata": {},
   "outputs": [],
   "source": [
    "X_cc = X_cc.drop(['P_HABITABLE'],axis =1)\n",
    "X_train, X_test, y_train, y_test = train_test_split(X_cc, y_cc, stratify=y_cc,\n",
    "                                    random_state=42, test_size=0.10)"
   ]
  },
  {
   "cell_type": "markdown",
   "metadata": {
    "toc-hr-collapsed": true
   },
   "source": [
    "## Running the model"
   ]
  },
  {
   "cell_type": "code",
   "execution_count": 23,
   "metadata": {},
   "outputs": [
    {
     "data": {
      "text/plain": [
       "RandomForestClassifier(bootstrap=True, ccp_alpha=0.0, class_weight=None,\n",
       "                       criterion='gini', max_depth=None, max_features='auto',\n",
       "                       max_leaf_nodes=None, max_samples=None,\n",
       "                       min_impurity_decrease=0.0, min_impurity_split=None,\n",
       "                       min_samples_leaf=1, min_samples_split=2,\n",
       "                       min_weight_fraction_leaf=0.0, n_estimators=50,\n",
       "                       n_jobs=None, oob_score=False, random_state=123,\n",
       "                       verbose=0, warm_start=False)"
      ]
     },
     "execution_count": 23,
     "metadata": {},
     "output_type": "execute_result"
    }
   ],
   "source": [
    "rforest = RandomForestClassifier(n_estimators=50, random_state=123)\n",
    "rforest.fit(X_train, y_train)"
   ]
  },
  {
   "cell_type": "code",
   "execution_count": 24,
   "metadata": {},
   "outputs": [],
   "source": [
    "# The model's class predictions\n",
    "rf_predictions = rforest.predict(X_test)\n",
    "\n",
    "# Probabilities for each class\n",
    "rf_probs = rforest.predict_proba(X_test)\n"
   ]
  },
  {
   "cell_type": "code",
   "execution_count": 25,
   "metadata": {},
   "outputs": [
    {
     "name": "stdout",
     "output_type": "stream",
     "text": [
      "Model score on test set: 1.0\n",
      "\n",
      "Class probabilities:\n",
      "Not habitable   Opt. Habitable   Cons. habitable\n",
      "[[1.   0.   0.  ]\n",
      " [0.   0.16 0.84]\n",
      " [1.   0.   0.  ]\n",
      " [1.   0.   0.  ]\n",
      " [0.26 0.74 0.  ]\n",
      " [1.   0.   0.  ]\n",
      " [1.   0.   0.  ]\n",
      " [0.   0.   1.  ]\n",
      " [0.22 0.78 0.  ]\n",
      " [0.2  0.78 0.02]]\n",
      "\n",
      "Actual classes:\n",
      "[0 2 0 0 1 0 0 2 1 1]\n"
     ]
    }
   ],
   "source": [
    "# Checking the results\n",
    "print('Model score on test set: ' + str(rforest.score(X_test, y_test)))\n",
    "\n",
    "print('\\nClass probabilities:\\n'+'Not habitable   Opt. Habitable   Cons. habitable')\n",
    "print(rf_probs)\n",
    "\n",
    "print('\\nActual classes:')\n",
    "print(y_test.values)"
   ]
  },
  {
   "cell_type": "markdown",
   "metadata": {},
   "source": [
    "Seems like our algorithm predicted correctly 100% of the classes. Of course, on such a small dataset, it's difficult to know if this would generalize well. \n",
    "There are better ways we could evaluate how the model actually performs, but for our purposes today we can just keep it as it is way and move on.\n",
    "\n",
    "The only thing I want to check before exporting our finished model is whether any of our features are redundant and can be dropped to simplify the app. The random forest classifier also outputs the relative **feature importance** (read [this article](https://towardsdatascience.com/explaining-feature-importance-by-example-of-a-random-forest-d9166011959e) if you want to know how that works)."
   ]
  },
  {
   "cell_type": "markdown",
   "metadata": {},
   "source": [
    "### Feature importance"
   ]
  },
  {
   "cell_type": "code",
   "execution_count": 26,
   "metadata": {},
   "outputs": [
    {
     "data": {
      "text/html": [
       "<div>\n",
       "<style scoped>\n",
       "    .dataframe tbody tr th:only-of-type {\n",
       "        vertical-align: middle;\n",
       "    }\n",
       "\n",
       "    .dataframe tbody tr th {\n",
       "        vertical-align: top;\n",
       "    }\n",
       "\n",
       "    .dataframe thead th {\n",
       "        text-align: right;\n",
       "    }\n",
       "</style>\n",
       "<table border=\"1\" class=\"dataframe\">\n",
       "  <thead>\n",
       "    <tr style=\"text-align: right;\">\n",
       "      <th></th>\n",
       "      <th>feature</th>\n",
       "      <th>importance</th>\n",
       "    </tr>\n",
       "  </thead>\n",
       "  <tbody>\n",
       "    <tr>\n",
       "      <th>1</th>\n",
       "      <td>P_RADIUS_EST</td>\n",
       "      <td>0.386070</td>\n",
       "    </tr>\n",
       "    <tr>\n",
       "      <th>0</th>\n",
       "      <td>P_MASS_EST</td>\n",
       "      <td>0.248475</td>\n",
       "    </tr>\n",
       "    <tr>\n",
       "      <th>4</th>\n",
       "      <td>S_RADIUS_EST</td>\n",
       "      <td>0.140784</td>\n",
       "    </tr>\n",
       "    <tr>\n",
       "      <th>5</th>\n",
       "      <td>S_MAG</td>\n",
       "      <td>0.088015</td>\n",
       "    </tr>\n",
       "    <tr>\n",
       "      <th>3</th>\n",
       "      <td>P_DISTANCE_EFF</td>\n",
       "      <td>0.075779</td>\n",
       "    </tr>\n",
       "    <tr>\n",
       "      <th>2</th>\n",
       "      <td>P_PERIOD</td>\n",
       "      <td>0.060878</td>\n",
       "    </tr>\n",
       "  </tbody>\n",
       "</table>\n",
       "</div>"
      ],
      "text/plain": [
       "          feature  importance\n",
       "1    P_RADIUS_EST    0.386070\n",
       "0      P_MASS_EST    0.248475\n",
       "4    S_RADIUS_EST    0.140784\n",
       "5           S_MAG    0.088015\n",
       "3  P_DISTANCE_EFF    0.075779\n",
       "2        P_PERIOD    0.060878"
      ]
     },
     "execution_count": 26,
     "metadata": {},
     "output_type": "execute_result"
    }
   ],
   "source": [
    "# Extract feature importances from model\n",
    "f_imp = pd.DataFrame({'feature': list(X_train.columns),\n",
    "                   'importance': rforest.feature_importances_}).\\\n",
    "                    sort_values('importance', ascending = False)\n",
    "\n",
    "# Display\n",
    "f_imp"
   ]
  },
  {
   "cell_type": "markdown",
   "metadata": {},
   "source": [
    "It might be a good idea to drop the Period feature and then train the model again."
   ]
  },
  {
   "cell_type": "code",
   "execution_count": 27,
   "metadata": {},
   "outputs": [],
   "source": [
    "X_train = X_train.drop(['P_PERIOD'], axis = 1)\n",
    "X_test = X_test.drop(['P_PERIOD'], axis = 1)"
   ]
  },
  {
   "cell_type": "code",
   "execution_count": 28,
   "metadata": {},
   "outputs": [
    {
     "data": {
      "text/plain": [
       "RandomForestClassifier(bootstrap=True, ccp_alpha=0.0, class_weight=None,\n",
       "                       criterion='gini', max_depth=None, max_features='auto',\n",
       "                       max_leaf_nodes=None, max_samples=None,\n",
       "                       min_impurity_decrease=0.0, min_impurity_split=None,\n",
       "                       min_samples_leaf=1, min_samples_split=2,\n",
       "                       min_weight_fraction_leaf=0.0, n_estimators=50,\n",
       "                       n_jobs=None, oob_score=False, random_state=123,\n",
       "                       verbose=0, warm_start=False)"
      ]
     },
     "execution_count": 28,
     "metadata": {},
     "output_type": "execute_result"
    }
   ],
   "source": [
    "rforest = RandomForestClassifier(n_estimators=50, random_state=123)\n",
    "rforest.fit(X_train, y_train)"
   ]
  },
  {
   "cell_type": "code",
   "execution_count": 31,
   "metadata": {},
   "outputs": [
    {
     "name": "stdout",
     "output_type": "stream",
     "text": [
      "Model score on test set: 1.0\n",
      "\n",
      "Class probabilities:\n",
      "Not habitable   Opt. Habitable   Cons. habitable\n",
      "[[1.   0.   0.  ]\n",
      " [0.   0.16 0.84]\n",
      " [1.   0.   0.  ]\n",
      " [1.   0.   0.  ]\n",
      " [0.26 0.74 0.  ]\n",
      " [1.   0.   0.  ]\n",
      " [1.   0.   0.  ]\n",
      " [0.   0.   1.  ]\n",
      " [0.22 0.78 0.  ]\n",
      " [0.2  0.78 0.02]]\n",
      "\n",
      "Actual classes:\n",
      "[0 2 0 0 1 0 0 2 1 1]\n"
     ]
    }
   ],
   "source": [
    "# Checking the results\n",
    "print('Model score on test set: ' + str(rforest.score(X_test, y_test)))\n",
    "\n",
    "print('\\nClass probabilities:\\n'+'Not habitable   Opt. Habitable   Cons. habitable')\n",
    "print(rf_probs)\n",
    "\n",
    "print('\\nActual classes:')\n",
    "print(y_test.values)"
   ]
  },
  {
   "cell_type": "markdown",
   "metadata": {},
   "source": [
    "## Serializing the model"
   ]
  },
  {
   "cell_type": "markdown",
   "metadata": {},
   "source": [
    "Our trained model needs to be exported in such a way that makes it available for the app to predict a result from the user's input.\n",
    "\n",
    "The python modules **pickle** and **joblib** can be both used to do this. What they do is *serialize* the input, which means translating it to a bit stream that can be stored on disk.\n",
    "The scikit-learn documentation recommends using joblib for serializing machine learning models, so we'll go with that one. Pickle works in a similar way."
   ]
  },
  {
   "cell_type": "code",
   "execution_count": 29,
   "metadata": {},
   "outputs": [
    {
     "data": {
      "text/plain": [
       "['model.joblib']"
      ]
     },
     "execution_count": 29,
     "metadata": {},
     "output_type": "execute_result"
    }
   ],
   "source": [
    "from joblib import dump, load\n",
    "dump(rforest, 'model.joblib') "
   ]
  },
  {
   "cell_type": "markdown",
   "metadata": {},
   "source": [
    "Now we have a *'model.joblib'* file that contains our model translated to a bit stream. It can be translated back by using the load function, e.g. *load('model.joblib')*, and the app can then use it to predict the planet class for any test input we pass it.\n",
    "\n",
    "Before we wrap up the machine learning part of this project, one last thing: we need to know what are the constraints we will put on the user's input. To do that, we'll get some stats on the values of all the columns using pandas' *.describe()* method."
   ]
  },
  {
   "cell_type": "code",
   "execution_count": 30,
   "metadata": {},
   "outputs": [
    {
     "data": {
      "text/html": [
       "<div>\n",
       "<style scoped>\n",
       "    .dataframe tbody tr th:only-of-type {\n",
       "        vertical-align: middle;\n",
       "    }\n",
       "\n",
       "    .dataframe tbody tr th {\n",
       "        vertical-align: top;\n",
       "    }\n",
       "\n",
       "    .dataframe thead th {\n",
       "        text-align: right;\n",
       "    }\n",
       "</style>\n",
       "<table border=\"1\" class=\"dataframe\">\n",
       "  <thead>\n",
       "    <tr style=\"text-align: right;\">\n",
       "      <th></th>\n",
       "      <th>P_MASS_EST</th>\n",
       "      <th>P_RADIUS_EST</th>\n",
       "      <th>P_PERIOD</th>\n",
       "      <th>P_DISTANCE_EFF</th>\n",
       "      <th>S_RADIUS_EST</th>\n",
       "      <th>S_MAG</th>\n",
       "      <th>P_HABITABLE</th>\n",
       "    </tr>\n",
       "  </thead>\n",
       "  <tbody>\n",
       "    <tr>\n",
       "      <th>count</th>\n",
       "      <td>3693.000000</td>\n",
       "      <td>3693.000000</td>\n",
       "      <td>3693.000000</td>\n",
       "      <td>3693.000000</td>\n",
       "      <td>3693.000000</td>\n",
       "      <td>3693.000000</td>\n",
       "      <td>3693.000000</td>\n",
       "    </tr>\n",
       "    <tr>\n",
       "      <th>mean</th>\n",
       "      <td>260.519763</td>\n",
       "      <td>5.268934</td>\n",
       "      <td>214.368352</td>\n",
       "      <td>0.415369</td>\n",
       "      <td>1.554611</td>\n",
       "      <td>12.760510</td>\n",
       "      <td>0.020579</td>\n",
       "    </tr>\n",
       "    <tr>\n",
       "      <th>std</th>\n",
       "      <td>829.332732</td>\n",
       "      <td>5.137510</td>\n",
       "      <td>1129.584622</td>\n",
       "      <td>1.072766</td>\n",
       "      <td>3.749732</td>\n",
       "      <td>2.901995</td>\n",
       "      <td>0.177588</td>\n",
       "    </tr>\n",
       "    <tr>\n",
       "      <th>min</th>\n",
       "      <td>0.000000</td>\n",
       "      <td>0.000000</td>\n",
       "      <td>0.179715</td>\n",
       "      <td>0.005800</td>\n",
       "      <td>0.110000</td>\n",
       "      <td>0.850000</td>\n",
       "      <td>0.000000</td>\n",
       "    </tr>\n",
       "    <tr>\n",
       "      <th>25%</th>\n",
       "      <td>3.508922</td>\n",
       "      <td>1.670290</td>\n",
       "      <td>4.563805</td>\n",
       "      <td>0.052823</td>\n",
       "      <td>0.800000</td>\n",
       "      <td>11.600000</td>\n",
       "      <td>0.000000</td>\n",
       "    </tr>\n",
       "    <tr>\n",
       "      <th>50%</th>\n",
       "      <td>7.328283</td>\n",
       "      <td>2.578300</td>\n",
       "      <td>11.874568</td>\n",
       "      <td>0.099081</td>\n",
       "      <td>0.970000</td>\n",
       "      <td>13.725000</td>\n",
       "      <td>0.000000</td>\n",
       "    </tr>\n",
       "    <tr>\n",
       "      <th>75%</th>\n",
       "      <td>89.738525</td>\n",
       "      <td>9.976900</td>\n",
       "      <td>40.528641</td>\n",
       "      <td>0.226000</td>\n",
       "      <td>1.240000</td>\n",
       "      <td>14.925000</td>\n",
       "      <td>0.000000</td>\n",
       "    </tr>\n",
       "    <tr>\n",
       "      <th>max</th>\n",
       "      <td>17668.059000</td>\n",
       "      <td>39.795500</td>\n",
       "      <td>43500.000000</td>\n",
       "      <td>22.000001</td>\n",
       "      <td>71.230000</td>\n",
       "      <td>19.830000</td>\n",
       "      <td>2.000000</td>\n",
       "    </tr>\n",
       "  </tbody>\n",
       "</table>\n",
       "</div>"
      ],
      "text/plain": [
       "         P_MASS_EST  P_RADIUS_EST      P_PERIOD  P_DISTANCE_EFF  S_RADIUS_EST  \\\n",
       "count   3693.000000   3693.000000   3693.000000     3693.000000   3693.000000   \n",
       "mean     260.519763      5.268934    214.368352        0.415369      1.554611   \n",
       "std      829.332732      5.137510   1129.584622        1.072766      3.749732   \n",
       "min        0.000000      0.000000      0.179715        0.005800      0.110000   \n",
       "25%        3.508922      1.670290      4.563805        0.052823      0.800000   \n",
       "50%        7.328283      2.578300     11.874568        0.099081      0.970000   \n",
       "75%       89.738525      9.976900     40.528641        0.226000      1.240000   \n",
       "max    17668.059000     39.795500  43500.000000       22.000001     71.230000   \n",
       "\n",
       "             S_MAG  P_HABITABLE  \n",
       "count  3693.000000  3693.000000  \n",
       "mean     12.760510     0.020579  \n",
       "std       2.901995     0.177588  \n",
       "min       0.850000     0.000000  \n",
       "25%      11.600000     0.000000  \n",
       "50%      13.725000     0.000000  \n",
       "75%      14.925000     0.000000  \n",
       "max      19.830000     2.000000  "
      ]
     },
     "execution_count": 30,
     "metadata": {},
     "output_type": "execute_result"
    }
   ],
   "source": [
    "pl.describe()"
   ]
  },
  {
   "cell_type": "markdown",
   "metadata": {},
   "source": [
    "## Conclusion\n",
    "\n",
    "The machine learning part of this project is done.\n",
    "There's definitely room for improvement, and you are free to work a bit more on this notebook before moving on to the next fun part: building and connecting the Flask web app to the model.\n",
    "\n",
    "Once again, [here is the link] to the blog post that shows you how to do that. **Happy coding!**"
   ]
  },
  {
   "cell_type": "code",
   "execution_count": null,
   "metadata": {},
   "outputs": [],
   "source": []
  }
 ],
 "metadata": {
  "kernelspec": {
   "display_name": "Python 3",
   "language": "python",
   "name": "python3"
  },
  "language_info": {
   "codemirror_mode": {
    "name": "ipython",
    "version": 3
   },
   "file_extension": ".py",
   "mimetype": "text/x-python",
   "name": "python",
   "nbconvert_exporter": "python",
   "pygments_lexer": "ipython3",
   "version": "3.7.6"
  },
  "toc-autonumbering": false,
  "toc-showcode": false,
  "toc-showmarkdowntxt": false,
  "toc-showtags": false
 },
 "nbformat": 4,
 "nbformat_minor": 4
}
